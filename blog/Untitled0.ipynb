
<!DOCTYPE html>
<html lang="en">
  <head>
        <meta charset="">
    <title> | Go Frendi's Personal Website</title>
    <meta name="viewport" content="width=device-width, initial-scale=1.0">
    <meta name="description" content="">
    <meta name="author" content="">
    <link rel="shortcut icon" href="favicon.ico" />

        <!--[if lt IE 9]>
      <script src="http://html5shim.googlecode.com/svn/trunk/html5.js"></script>
    <![endif]-->

        <link href="/media/css/bootstrap.min.css" rel="stylesheet">
    <link href="/media/css/bootstrap.min.cosmo.css" rel="stylesheet">
    <link href="/media/css/offcanvas.css" rel="stylesheet">

    <style type="text/css">
        body {
            padding-top: 60px;
            padding-bottom: 40px;
        }
        .sidebar-nav {
            padding: 9px 0;
        }

        @media (max-width: 980px) {
            /* Enable use of
            floated navbar
            text */
            .navbar-text.pull-right
            {
                float:
                none;
                padding-left:
                5px;
                padding-right:
                5px;
            }
        }
    </style>

        


            <link rel="shortcut icon" href="/media/img/favicon.ico">
    <link rel="apple-touch-icon" href="/media/img/apple-touch-icon.png">
    <link rel="apple-touch-icon" sizes="72x72" href="/media/img/appleimgim-touch-icon-72x72.png">
    <link rel="apple-touch-icon" sizes="114x114" href="/media/img/apple-touch-icon-114x114.png">
    
        
                  </head>

  <body class="Untitled0">

    <div class="navbar navbar-fixed-top navbar-default" role="navigation">
    <div class="container">
    <div class="navbar-header">
      <button type="button" class="navbar-toggle" data-toggle="collapse" data-target=".navbar-collapse">
        <span class="icon-bar"></span>
        <span class="icon-bar"></span>
        <span class="icon-bar"></span>
      </button>
      <a class="navbar-brand" href="index.html">Go Frendi's Personal Website</a>
    </div><!-- /.navbar-header -->
    <div class="collapse navbar-collapse">
      <ul class="nav navbar-nav">
                    <li >
        <a href="/index.html">Home</a>
    </li>    <li >
        <a href="/about.html">About</a>
    </li>    <li class="active">
        <a href="/blog">Blog</a>
    </li>    <li >
        <a href="/service.html">Service</a>
    </li>
      </ul>
    </div><!-- /.nav-collapse -->
  </div><!-- /.container -->
  </div><!-- /.navbar -->

        <div class="container" id="top">
      <link rel="stylsheet" type="text/css" href="../media/js/libs/google-code-prettify/prettify.css">
<article>

<h1>
    <a href="/blog/Untitled0.ipynb">
        
    </a>
</h1>
<time datetime="">
    Posted: 
</time>

<hr>

{
 "metadata": {
  "name": ""
 },
 "nbformat": 3,
 "nbformat_minor": 0,
 "worksheets": [
  {
   "cells": [
    {
     "cell_type": "code",
     "collapsed": false,
     "input": [
      "print(\"Hello world\")"
     ],
     "language": "python",
     "metadata": {},
     "outputs": [
      {
       "output_type": "stream",
       "stream": "stdout",
       "text": [
        "Hello world\n"
       ]
      }
     ],
     "prompt_number": 1
    },
    {
     "cell_type": "code",
     "collapsed": false,
     "input": [],
     "language": "python",
     "metadata": {},
     "outputs": []
    }
   ],
   "metadata": {}
  }
 ]
}

</article>


<div class="btn-group">
<button type="button" class="btn btn-default"><a href="/blog">Back to list</a></button>


</div>
<hr>
      
    <div id="disqus_thread"></div>
    <script type="text/javascript">
        /* * * CONFIGURATION VARIABLES: EDIT BEFORE PASTING INTO YOUR WEBPAGE * * */
        var disqus_shortname = 'gofrendiasgardgithubio'; // required: replace example with your forum shortname

        /* * * DON'T EDIT BELOW THIS LINE * * */
        (function() {
            var dsq = document.createElement('script'); dsq.type = 'text/javascript'; dsq.async = true;
            dsq.src = '//' + disqus_shortname + '.disqus.com/embed.js';
            (document.getElementsByTagName('head')[0] || document.getElementsByTagName('body')[0]).appendChild(dsq);
        })();
    </script>
    <noscript>Please enable JavaScript to view the <a href="http://disqus.com/?ref_noscript">comments powered by Disqus.</a></noscript>
    <a href="http://disqus.com" class="dsq-brlink">comments powered by <span class="logo-disqus">Disqus</span></a>

    <script src="../media/js/libs/google-code-prettify/prettify.js"></script>      <hr />
      <footer>
                <p>Created by <a href="http://gofrendiasgard.github.io">Go Frendi Gunawan</a></p>
              </footer>
    </div> <!-- /container -->

     

                    <script src="//ajax.googleapis.com/ajax/libs/jquery/1.10.0/jquery.min.js"></script>
    <script>window.jQuery || document.write('<script src="/media/js/libs/jquery.min.js">\x3C/script>')</script>
    
        <script src="/media/js/libs/bootstrap.min.js"></script>
        <script src="/media/js/libs/offcanvas.js"></script>
    
        

    <!--[if lt IE 7 ]>
      <script src="/media/js/libs/dd_belatedpng.js"></script>
      <script>DD_belatedPNG.fix('img, .png_bg'); // Fix any <img> or .png_bg bg-images. Also, please read goo.gl/mZiyb </script>
    <![endif]-->



      </body>
</html>